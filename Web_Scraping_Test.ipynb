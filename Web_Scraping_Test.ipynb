{
  "nbformat": 4,
  "nbformat_minor": 0,
  "metadata": {
    "colab": {
      "provenance": []
    },
    "kernelspec": {
      "name": "python3",
      "display_name": "Python 3"
    },
    "language_info": {
      "name": "python"
    }
  },
  "cells": [
    {
      "cell_type": "code",
      "execution_count": 2,
      "metadata": {
        "colab": {
          "base_uri": "https://localhost:8080/"
        },
        "id": "vudTmlyoIWdg",
        "outputId": "052c929d-add3-48fd-fa0b-24280c039bba"
      },
      "outputs": [
        {
          "output_type": "stream",
          "name": "stdout",
          "text": [
            "Collecting selenium\n",
            "  Downloading selenium-4.19.0-py3-none-any.whl (10.5 MB)\n",
            "\u001b[2K     \u001b[90m━━━━━━━━━━━━━━━━━━━━━━━━━━━━━━━━━━━━━━━━\u001b[0m \u001b[32m10.5/10.5 MB\u001b[0m \u001b[31m30.4 MB/s\u001b[0m eta \u001b[36m0:00:00\u001b[0m\n",
            "\u001b[?25hRequirement already satisfied: urllib3[socks]<3,>=1.26 in /usr/local/lib/python3.10/dist-packages (from selenium) (2.0.7)\n",
            "Collecting trio~=0.17 (from selenium)\n",
            "  Downloading trio-0.25.0-py3-none-any.whl (467 kB)\n",
            "\u001b[2K     \u001b[90m━━━━━━━━━━━━━━━━━━━━━━━━━━━━━━━━━━━━━━━━\u001b[0m \u001b[32m467.2/467.2 kB\u001b[0m \u001b[31m38.5 MB/s\u001b[0m eta \u001b[36m0:00:00\u001b[0m\n",
            "\u001b[?25hCollecting trio-websocket~=0.9 (from selenium)\n",
            "  Downloading trio_websocket-0.11.1-py3-none-any.whl (17 kB)\n",
            "Requirement already satisfied: certifi>=2021.10.8 in /usr/local/lib/python3.10/dist-packages (from selenium) (2024.2.2)\n",
            "Requirement already satisfied: typing_extensions>=4.9.0 in /usr/local/lib/python3.10/dist-packages (from selenium) (4.11.0)\n",
            "Requirement already satisfied: attrs>=23.2.0 in /usr/local/lib/python3.10/dist-packages (from trio~=0.17->selenium) (23.2.0)\n",
            "Requirement already satisfied: sortedcontainers in /usr/local/lib/python3.10/dist-packages (from trio~=0.17->selenium) (2.4.0)\n",
            "Requirement already satisfied: idna in /usr/local/lib/python3.10/dist-packages (from trio~=0.17->selenium) (3.7)\n",
            "Collecting outcome (from trio~=0.17->selenium)\n",
            "  Downloading outcome-1.3.0.post0-py2.py3-none-any.whl (10 kB)\n",
            "Requirement already satisfied: sniffio>=1.3.0 in /usr/local/lib/python3.10/dist-packages (from trio~=0.17->selenium) (1.3.1)\n",
            "Requirement already satisfied: exceptiongroup in /usr/local/lib/python3.10/dist-packages (from trio~=0.17->selenium) (1.2.0)\n",
            "Collecting wsproto>=0.14 (from trio-websocket~=0.9->selenium)\n",
            "  Downloading wsproto-1.2.0-py3-none-any.whl (24 kB)\n",
            "Requirement already satisfied: pysocks!=1.5.7,<2.0,>=1.5.6 in /usr/local/lib/python3.10/dist-packages (from urllib3[socks]<3,>=1.26->selenium) (1.7.1)\n",
            "Collecting h11<1,>=0.9.0 (from wsproto>=0.14->trio-websocket~=0.9->selenium)\n",
            "  Downloading h11-0.14.0-py3-none-any.whl (58 kB)\n",
            "\u001b[2K     \u001b[90m━━━━━━━━━━━━━━━━━━━━━━━━━━━━━━━━━━━━━━━━\u001b[0m \u001b[32m58.3/58.3 kB\u001b[0m \u001b[31m7.7 MB/s\u001b[0m eta \u001b[36m0:00:00\u001b[0m\n",
            "\u001b[?25hInstalling collected packages: outcome, h11, wsproto, trio, trio-websocket, selenium\n",
            "Successfully installed h11-0.14.0 outcome-1.3.0.post0 selenium-4.19.0 trio-0.25.0 trio-websocket-0.11.1 wsproto-1.2.0\n"
          ]
        }
      ],
      "source": [
        "!pip install selenium"
      ]
    },
    {
      "cell_type": "code",
      "source": [],
      "metadata": {
        "id": "8p-rleZYIvj6"
      },
      "execution_count": 18,
      "outputs": []
    },
    {
      "cell_type": "code",
      "source": [
        "import requests\n",
        "\n",
        "# url = 'https://en.wikipedia.org/wiki/List_of_largest_banks_in_the_United_States'  # Replace with the URL you want to scrape\n",
        "url = 'https://www.marketwatch.com/guides/banking/largest-banks-in-the-us/'\n",
        "response = requests.get(url)\n",
        "html_content = response.text\n",
        "# print(html_content)"
      ],
      "metadata": {
        "id": "0jmAEDaOI5R9"
      },
      "execution_count": 19,
      "outputs": []
    },
    {
      "cell_type": "code",
      "source": [
        "from bs4 import BeautifulSoup\n",
        "\n",
        "soup = BeautifulSoup(html_content, 'html.parser')\n",
        "\n",
        "# Find the table element\n",
        "table = soup.find('table')\n",
        "print(table)"
      ],
      "metadata": {
        "colab": {
          "base_uri": "https://localhost:8080/"
        },
        "id": "bJYF7sqaJTDY",
        "outputId": "b6fe1cd4-58c9-40db-f202-0f63e91c3e5f"
      },
      "execution_count": 13,
      "outputs": [
        {
          "output_type": "stream",
          "name": "stdout",
          "text": [
            "<table><thead><tr><th><strong>Rank by Asset Size</strong></th><th><strong>Bank Name</strong></th><th><strong>Total Assets</strong></th><th><strong><br/>Customer Count</strong></th><th><strong>Number of Branches</strong></th><th><strong>Number of ATMs</strong></th></tr></thead><tbody><tr><td>1.</td><td>Chase Bank</td><td>$3.38 trillion</td><td>80 million</td><td>4,700</td><td>16,000</td></tr><tr><td>2.</td><td>Bank of America</td><td>$2.45 trillion</td><td>68 million</td><td>3,900</td><td>15,000</td></tr><tr><td>3.</td><td>Wells Fargo</td><td>$1.7 trillion</td><td>70 million</td><td>4,500</td><td>11,000</td></tr><tr><td>4.</td><td>Citibank</td><td>$1.68 trillion</td><td>200 million accounts globally</td><td>600</td><td>2,300, plus access to a fee-free network of 65,000 ATMs</td></tr><tr><td>5.</td><td>U.S. Bank</td><td>$657.2 billion</td><td>11.6 million</td><td>2,000</td><td>4,500</td></tr><tr><td>6.</td><td>PNC Bank</td><td>$554.11 billion</td><td>12 million</td><td>2,400</td><td>2,600, plus access to a fee-free network of 60,000 ATMs</td></tr><tr><td>7.</td><td>Goldman Sachs Bank</td><td>$538.13 billion</td><td>10 million</td><td>None</td><td>None</td></tr><tr><td>8.</td><td>Truist Bank</td><td>$535 billion</td><td>15 million</td><td>2,000</td><td>3,000</td></tr><tr><td>9.</td><td>Capital One</td><td>$468.78 billion</td><td>100 million</td><td>300 branches and 50+ Capital One Cafes</td><td>70,000</td></tr><tr><td>10.</td><td>TD Bank</td><td>$366.25 billion</td><td>27.5 million globally</td><td>1,100</td><td>2,700</td></tr></tbody></table>\n"
          ]
        }
      ]
    },
    {
      "cell_type": "code",
      "source": [
        "import pandas as pd\n",
        "\n",
        "# Initialize an empty list to store rows\n",
        "data = []\n",
        "\n",
        "# Iterate through each row in the table\n",
        "for row in table.find_all('tr'):\n",
        "    # Get all cells in the row\n",
        "    cells = row.find_all(['th', 'td'])\n",
        "    # Get text from each cell\n",
        "    row_data = [cell.get_text(strip=True) for cell in cells]\n",
        "    # Append row data to the list\n",
        "    data.append(row_data)\n",
        "\n",
        "# Convert list of rows into a pandas DataFrame\n",
        "df = pd.DataFrame(data)"
      ],
      "metadata": {
        "id": "yehL4q1qJe6N"
      },
      "execution_count": 14,
      "outputs": []
    },
    {
      "cell_type": "code",
      "source": [
        "import sqlite3\n",
        "\n",
        "# Create a connection to an SQLite database\n",
        "connection = sqlite3.connect('data.db')  # Replace 'data.db' with your desired database name\n",
        "\n",
        "# Store the DataFrame in the database as a table\n",
        "df.to_sql('table_name', connection, if_exists='replace', index=False)  # Replace 'table_name' with your desired table name\n",
        "\n",
        "# Close the connection\n",
        "connection.close()\n"
      ],
      "metadata": {
        "id": "p-Z75TzfJjXf"
      },
      "execution_count": 15,
      "outputs": []
    },
    {
      "cell_type": "code",
      "source": [
        "print(df)"
      ],
      "metadata": {
        "colab": {
          "base_uri": "https://localhost:8080/"
        },
        "id": "rIXEou98Jnbu",
        "outputId": "32a896a8-52ec-4915-dde8-778903ccfc82"
      },
      "execution_count": 16,
      "outputs": [
        {
          "output_type": "stream",
          "name": "stdout",
          "text": [
            "                     0                   1                2  \\\n",
            "0   Rank by Asset Size           Bank Name     Total Assets   \n",
            "1                   1.          Chase Bank   $3.38 trillion   \n",
            "2                   2.     Bank of America   $2.45 trillion   \n",
            "3                   3.         Wells Fargo    $1.7 trillion   \n",
            "4                   4.            Citibank   $1.68 trillion   \n",
            "5                   5.           U.S. Bank   $657.2 billion   \n",
            "6                   6.            PNC Bank  $554.11 billion   \n",
            "7                   7.  Goldman Sachs Bank  $538.13 billion   \n",
            "8                   8.         Truist Bank     $535 billion   \n",
            "9                   9.         Capital One  $468.78 billion   \n",
            "10                 10.             TD Bank  $366.25 billion   \n",
            "\n",
            "                                3                                       4  \\\n",
            "0                  Customer Count                      Number of Branches   \n",
            "1                      80 million                                   4,700   \n",
            "2                      68 million                                   3,900   \n",
            "3                      70 million                                   4,500   \n",
            "4   200 million accounts globally                                     600   \n",
            "5                    11.6 million                                   2,000   \n",
            "6                      12 million                                   2,400   \n",
            "7                      10 million                                    None   \n",
            "8                      15 million                                   2,000   \n",
            "9                     100 million  300 branches and 50+ Capital One Cafes   \n",
            "10          27.5 million globally                                   1,100   \n",
            "\n",
            "                                                    5  \n",
            "0                                      Number of ATMs  \n",
            "1                                              16,000  \n",
            "2                                              15,000  \n",
            "3                                              11,000  \n",
            "4   2,300, plus access to a fee-free network of 65...  \n",
            "5                                               4,500  \n",
            "6   2,600, plus access to a fee-free network of 60...  \n",
            "7                                                None  \n",
            "8                                               3,000  \n",
            "9                                              70,000  \n",
            "10                                              2,700  \n"
          ]
        }
      ]
    },
    {
      "cell_type": "code",
      "source": [
        "import csv\n",
        "df.to_csv('bank_table.csv', index = False)"
      ],
      "metadata": {
        "id": "qVK5hV4lJ1nZ"
      },
      "execution_count": 18,
      "outputs": []
    },
    {
      "cell_type": "code",
      "source": [
        "from selenium import webdriver\n",
        "from selenium.webdriver.common.by import By\n",
        "import time\n",
        "\n",
        "# Path to your web driver\n",
        "chrome_driver_path = ''  # Replace with the path to your ChromeDriver\n",
        "\n",
        "# Initialize the Chrome browser\n",
        "driver = webdriver.Chrome()\n",
        "\n",
        "# Navigate to the web page you want to scrape\n",
        "url = 'https://en.wikipedia.org/wiki/List_of_largest_banks_in_the_United_States'  # Replace with the URL you want to scrape\n",
        "driver.get(url)\n",
        "\n",
        "# Wait for the page to load\n",
        "time.sleep(2)\n",
        "\n",
        "# Scrape the desired data\n",
        "# Example: Find an element by its tag name\n",
        "element = driver.find_element(By.TAG_NAME, 'h1')\n",
        "print(f'Scraped data: {element.text}')\n",
        "\n",
        "# Close the browser\n",
        "driver.quit()"
      ],
      "metadata": {
        "id": "ygTDRmm0NN2v"
      },
      "execution_count": null,
      "outputs": []
    }
  ]
}